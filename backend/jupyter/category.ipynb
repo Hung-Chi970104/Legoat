{
 "cells": [
  {
   "cell_type": "code",
   "execution_count": 5,
   "id": "64cc36df-fad1-4cd1-a6a5-fda1b2ca4962",
   "metadata": {},
   "outputs": [
    {
     "name": "stdout",
     "output_type": "stream",
     "text": [
      "Results saved to stress_results.json\n"
     ]
    }
   ],
   "source": [
    "import pandas as pd\n",
    "import json\n",
    "\n",
    "# Load single-row EEG dataset\n",
    "df = pd.read_csv(\"C:/Hung_Chi/Legoat/backend/assets/F_Relax_A_feature 3.csv\").head(1)  # keep as DataFrame\n",
    "\n",
    "# Drop unnamed column if it exists\n",
    "df = df.drop(columns=[\"Unnamed: 0\"], errors='ignore')\n",
    "\n",
    "num_channels = 8  # Channels 0 to 7\n",
    "\n",
    "# Extract row\n",
    "row = df.iloc[0]\n",
    "\n",
    "# Calculate sums\n",
    "beta_sum = sum(float(row[f\"{ch}.psd_beta\"]) for ch in range(num_channels))\n",
    "gamma_sum = sum(float(row[f\"{ch}.psd_gamma\"]) for ch in range(num_channels))\n",
    "\n",
    "# Calculate stress values\n",
    "stress_score = beta_sum / (gamma_sum + 1e-6)\n",
    "stress_level = \"Low\" if stress_score < 0.8 else \"Moderate\" if stress_score < 1.5 else \"High\"\n",
    "stress_type = \"High mental workload / Anxiety\" if beta_sum > gamma_sum else \"Relaxed / Low stress\"\n",
    "\n",
    "# Create result dictionary\n",
    "result_data = {\n",
    "    'stress_score': round(stress_score, 3),\n",
    "    'stress_level': stress_level,\n",
    "    'stress_type': stress_type,\n",
    "    'beta_sum': beta_sum,\n",
    "    'gamma_sum': gamma_sum\n",
    "}\n",
    "\n",
    "# Save to JSON file\n",
    "with open(\"stress_results.json\", \"w\") as f:\n",
    "    json.dump(result_data, f, indent=4)\n",
    "\n",
    "print(\"Results saved to stress_results.json\")\n"
   ]
  }
 ],
 "metadata": {
  "kernelspec": {
   "display_name": "Python 3 (ipykernel)",
   "language": "python",
   "name": "python3"
  },
  "language_info": {
   "codemirror_mode": {
    "name": "ipython",
    "version": 3
   },
   "file_extension": ".py",
   "mimetype": "text/x-python",
   "name": "python",
   "nbconvert_exporter": "python",
   "pygments_lexer": "ipython3",
   "version": "3.12.11"
  }
 },
 "nbformat": 4,
 "nbformat_minor": 5
}
