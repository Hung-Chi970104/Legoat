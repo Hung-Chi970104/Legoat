{
 "cells": [
  {
   "cell_type": "code",
   "execution_count": null,
   "id": "2b1c347b-a42f-4e29-8ef8-b01dabcdc460",
   "metadata": {},
   "outputs": [],
   "source": [
    "import sys\n",
    "\n",
    "def calculate_bpm_from_eeg(band_data):\n",
    "    \"\"\"\n",
    "    Calculate BPM based on EEG band powers.\n",
    "    This is a simplified algorithm - in a real app, you'd use a more \n",
    "    sophisticated approach based on neurological research.\n",
    "    \"\"\"\n",
    "    # Example formula: weight the bands differently to get a BPM\n",
    "    # Alpha (relaxation) might suggest slower music\n",
    "    # Beta and Gamma (alertness/focus) might suggest faster music\n",
    "    \n",
    "    delta_weight = 0.1  # deep sleep - slow\n",
    "    theta_weight = 0.2  # meditation - moderate slow\n",
    "    alpha_weight = 0.3  # relaxed - moderate\n",
    "    beta_weight = 0.3   # alert - faster\n",
    "    gamma_weight = 0.1  # high cognition - very fast\n",
    "    \n",
    "    # Normalize the weights to sum to 1\n",
    "    total_weight = delta_weight + theta_weight + alpha_weight + beta_weight + gamma_weight\n",
    "    \n",
    "    # Calculate weighted BPM starting from a base of 60 BPM\n",
    "    # Map to a range between 60-180 BPM\n",
    "    try:\n",
    "        base_bpm = 60\n",
    "        bpm_range = 120\n",
    "        \n",
    "        weighted_sum = (\n",
    "            delta_weight * band_data.get('delta', 0) +\n",
    "            theta_weight * band_data.get('theta', 0) +\n",
    "            alpha_weight * band_data.get('alpha', 0) +\n",
    "            beta_weight * band_data.get('beta', 0) +\n",
    "            gamma_weight * band_data.get('gamma', 0)\n",
    "        )\n",
    "        \n",
    "        # Normalize the weighted sum (assuming each band is a percentage)\n",
    "        normalized_weight = weighted_sum / total_weight / 100 if total_weight > 0 else 0.5\n",
    "        \n",
    "        # Calculate BPM in the range 60-180\n",
    "        calculated_bpm = base_bpm + normalized_weight * bpm_range\n",
    "        \n",
    "        # Round to nearest integer\n",
    "        return round(calculated_bpm)\n",
    "    except Exception as e:\n",
    "        print(f\"Error calculating BPM: {str(e)}\", file=sys.stderr)\n",
    "        return 120  # Default BPM if calculation fails"
   ]
  }
 ],
 "metadata": {
  "kernelspec": {
   "display_name": "Python 3 (ipykernel)",
   "language": "python",
   "name": "python3"
  },
  "language_info": {
   "codemirror_mode": {
    "name": "ipython",
    "version": 3
   },
   "file_extension": ".py",
   "mimetype": "text/x-python",
   "name": "python",
   "nbconvert_exporter": "python",
   "pygments_lexer": "ipython3",
   "version": "3.12.11"
  }
 },
 "nbformat": 4,
 "nbformat_minor": 5
}
